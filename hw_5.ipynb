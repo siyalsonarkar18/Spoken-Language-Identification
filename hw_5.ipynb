{
 "cells": [
  {
   "cell_type": "code",
   "execution_count": 4,
   "metadata": {},
   "outputs": [],
   "source": [
    "import tarfile\n",
    "tar= tarfile.open(\"mfcc_64_train.tar.gz\")\n",
    "tar.extractall()"
   ]
  },
  {
   "cell_type": "code",
   "execution_count": 1,
   "metadata": {},
   "outputs": [
    {
     "data": {
      "text/plain": [
       "(79076, 64)"
      ]
     },
     "execution_count": 1,
     "metadata": {},
     "output_type": "execute_result"
    }
   ],
   "source": [
    "import numpy as np\n",
    "import os\n",
    "from os import listdir\n",
    "import array\n",
    "\n",
    "sequence_len = 1000\n",
    "\n",
    "## english\n",
    "\n",
    "eng = np.load('train/english/speaker-01-file-00.npy')\n",
    "eng = np.transpose(eng)\n",
    "\n",
    "for filename in listdir('train/english'):\n",
    "    if (filename != 'speaker-01-file-00.npy'):\n",
    "        \n",
    "        en = np.load('train/english/'+ filename)\n",
    "        np.vstack((eng,np.transpose(en)))\n",
    "        \n",
    "eng.shape"
   ]
  },
  {
   "cell_type": "code",
   "execution_count": 2,
   "metadata": {},
   "outputs": [
    {
     "name": "stdout",
     "output_type": "stream",
     "text": [
      "(79000, 64)\n"
     ]
    }
   ],
   "source": [
    "sequence_len = 1000\n",
    "num_eng = len(eng) // sequence_len \n",
    " \n",
    "english = eng[:(num_eng*sequence_len)]\n",
    "print(english.shape)"
   ]
  },
  {
   "cell_type": "code",
   "execution_count": 3,
   "metadata": {},
   "outputs": [
    {
     "name": "stdout",
     "output_type": "stream",
     "text": [
      "(79, 1000, 3)\n"
     ]
    }
   ],
   "source": [
    "y_eng = [1,0,0]\n",
    "y_english = np.tile(y_eng,(num_eng,sequence_len,1))\n",
    "\n",
    "print(y_english.shape)"
   ]
  },
  {
   "cell_type": "code",
   "execution_count": null,
   "metadata": {},
   "outputs": [],
   "source": []
  },
  {
   "cell_type": "code",
   "execution_count": 4,
   "metadata": {},
   "outputs": [
    {
     "name": "stdout",
     "output_type": "stream",
     "text": [
      "hin shape : (67010, 64)\n"
     ]
    }
   ],
   "source": [
    "## hindi\n",
    "\n",
    "hin = np.load('train/hindi/speaker-01-file-00.npy')\n",
    "hin = np.transpose(hin)\n",
    "\n",
    "for filename in listdir('train/hindi'):\n",
    "    if filename != 'speaker-01-file-00.npy':\n",
    "        \n",
    "        en = np.load('train/hindi/'+ filename)\n",
    "        np.vstack((hin,np.transpose(en)))\n",
    "        \n",
    "print('hin shape :',hin.shape)"
   ]
  },
  {
   "cell_type": "code",
   "execution_count": 5,
   "metadata": {},
   "outputs": [
    {
     "name": "stdout",
     "output_type": "stream",
     "text": [
      "(67000, 64)\n"
     ]
    }
   ],
   "source": [
    "num_hin = len(hin) // sequence_len \n",
    " \n",
    "hindi = hin[:(num_hin*sequence_len)]\n",
    "print(hindi.shape)"
   ]
  },
  {
   "cell_type": "code",
   "execution_count": 6,
   "metadata": {},
   "outputs": [
    {
     "name": "stdout",
     "output_type": "stream",
     "text": [
      "(67, 1000, 3)\n"
     ]
    }
   ],
   "source": [
    "y_hin = [0,1,0]\n",
    "y_hindi = np.tile(y_hin,(num_hin,sequence_len,1))\n",
    "\n",
    "print(y_hindi.shape)"
   ]
  },
  {
   "cell_type": "code",
   "execution_count": null,
   "metadata": {},
   "outputs": [],
   "source": []
  },
  {
   "cell_type": "code",
   "execution_count": 7,
   "metadata": {},
   "outputs": [
    {
     "data": {
      "text/plain": [
       "(60182, 64)"
      ]
     },
     "execution_count": 7,
     "metadata": {},
     "output_type": "execute_result"
    }
   ],
   "source": [
    "## mandarin\n",
    "\n",
    "man = np.load('train/mandarin/speaker-02-file-00.npy')\n",
    "man = np.transpose(man)\n",
    "\n",
    "for filename in listdir('train/mandarin'):\n",
    "    if filename != 'speaker-01-file-00.npy':\n",
    "        \n",
    "        en = np.load('train/mandarin/'+ filename)\n",
    "        np.vstack((man,np.transpose(en)))\n",
    "        \n",
    "man.shape"
   ]
  },
  {
   "cell_type": "code",
   "execution_count": 8,
   "metadata": {},
   "outputs": [
    {
     "name": "stdout",
     "output_type": "stream",
     "text": [
      "(60000, 64)\n"
     ]
    }
   ],
   "source": [
    "num_man = len(man) // sequence_len \n",
    " \n",
    "mandarin = man[:(num_man*sequence_len)]\n",
    "print(mandarin.shape)"
   ]
  },
  {
   "cell_type": "code",
   "execution_count": 9,
   "metadata": {},
   "outputs": [
    {
     "name": "stdout",
     "output_type": "stream",
     "text": [
      "(60, 1000, 3)\n"
     ]
    }
   ],
   "source": [
    "y_man = [0,0,1]\n",
    "y_mandarin = np.tile(y_man,(num_man,sequence_len,1))\n",
    "\n",
    "print(y_mandarin.shape)"
   ]
  },
  {
   "cell_type": "code",
   "execution_count": 10,
   "metadata": {},
   "outputs": [],
   "source": [
    "N_seq = num_eng + num_hin + num_man\n",
    "\n",
    "x = np.vstack((english,hindi,mandarin))\n",
    " \n",
    "x = np.reshape(x, (N_seq, sequence_len, 64) )\n",
    "\n",
    "y = np.vstack((y_english,y_hindi,y_mandarin))\n",
    "\n"
   ]
  },
  {
   "cell_type": "code",
   "execution_count": 11,
   "metadata": {},
   "outputs": [
    {
     "name": "stdout",
     "output_type": "stream",
     "text": [
      "(206, 1000, 64)\n",
      "(206, 1000, 3)\n"
     ]
    }
   ],
   "source": [
    "print(x.shape)\n",
    "print(y.shape)\n"
   ]
  },
  {
   "cell_type": "code",
   "execution_count": 12,
   "metadata": {},
   "outputs": [],
   "source": [
    "from sklearn.model_selection import train_test_split\n",
    "\n",
    "X_train, X_val, y_train, y_val = train_test_split(x, y, test_size=0.2)"
   ]
  },
  {
   "cell_type": "code",
   "execution_count": 13,
   "metadata": {},
   "outputs": [
    {
     "name": "stderr",
     "output_type": "stream",
     "text": [
      "/anaconda3/lib/python3.6/site-packages/h5py/__init__.py:36: FutureWarning: Conversion of the second argument of issubdtype from `float` to `np.floating` is deprecated. In future, it will be treated as `np.float64 == np.dtype(float).type`.\n",
      "  from ._conv import register_converters as _register_converters\n",
      "Using TensorFlow backend.\n"
     ]
    }
   ],
   "source": [
    "import matplotlib.pyplot as plt\n",
    "import tensorflow as tf\n",
    "import os\n",
    "\n",
    "import keras\n",
    "from keras.models import Model\n",
    "from keras.layers import GRU\n",
    "from keras.layers import Input\n",
    "from keras.layers import Dense\n",
    "# from keras import metrics\n",
    "from keras import losses\n",
    "\n",
    "\n",
    "BATCH_SIZE = 32\n",
    "EPOCHS = 50"
   ]
  },
  {
   "cell_type": "code",
   "execution_count": 14,
   "metadata": {},
   "outputs": [
    {
     "name": "stdout",
     "output_type": "stream",
     "text": [
      "\n",
      "Building model...\n",
      "\n",
      "Compiling model...\n",
      "_________________________________________________________________\n",
      "Layer (type)                 Output Shape              Param #   \n",
      "=================================================================\n",
      "main_input (InputLayer)      (None, None, 64)          0         \n",
      "_________________________________________________________________\n",
      "pred_gru (GRU)               (None, None, 4)           828       \n",
      "_________________________________________________________________\n",
      "rnn_output (Dense)           (None, None, 3)           15        \n",
      "=================================================================\n",
      "Total params: 843\n",
      "Trainable params: 843\n",
      "Non-trainable params: 0\n",
      "_________________________________________________________________\n"
     ]
    }
   ],
   "source": [
    "print('\\nBuilding model...')\n",
    "\n",
    "DROPOUT = 0.0\n",
    "RECURRENT_DROP_OUT = 0.0 \n",
    "\n",
    "GRU_nodes = 4\n",
    "main_input      = Input(shape=(None, 64), name='main_input')\n",
    "pred_gru        = GRU( GRU_nodes, return_sequences=True, dropout=DROPOUT, recurrent_dropout=RECURRENT_DROP_OUT, name='pred_gru')(main_input)\n",
    "rnn_output      = Dense(3, activation = 'sigmoid', name='rnn_output')(pred_gru)\n",
    "\n",
    "model = Model(inputs=main_input, outputs=rnn_output)\n",
    "print('\\nCompiling model...')\n",
    "model.compile(loss='categorical_crossentropy', optimizer='adam', metrics=['acc'])\n",
    "model.summary()"
   ]
  },
  {
   "cell_type": "code",
   "execution_count": 15,
   "metadata": {},
   "outputs": [
    {
     "name": "stdout",
     "output_type": "stream",
     "text": [
      "\n",
      "Training...\n",
      "Train on 206 samples, validate on 42 samples\n",
      "Epoch 1/50\n",
      "206/206 [==============================] - 7s 36ms/step - loss: 1.1957 - acc: 0.2040 - val_loss: 1.1817 - val_acc: 0.2179\n",
      "Epoch 2/50\n",
      "206/206 [==============================] - 6s 30ms/step - loss: 1.1742 - acc: 0.2304 - val_loss: 1.1676 - val_acc: 0.2183\n",
      "Epoch 3/50\n",
      "206/206 [==============================] - 6s 30ms/step - loss: 1.1513 - acc: 0.2477 - val_loss: 1.1477 - val_acc: 0.2515\n",
      "Epoch 4/50\n",
      "206/206 [==============================] - 6s 30ms/step - loss: 1.1246 - acc: 0.3016 - val_loss: 1.1039 - val_acc: 0.3748\n",
      "Epoch 5/50\n",
      "206/206 [==============================] - 7s 34ms/step - loss: 1.0870 - acc: 0.4314 - val_loss: 1.0783 - val_acc: 0.4353\n",
      "Epoch 6/50\n",
      "206/206 [==============================] - 6s 30ms/step - loss: 1.0594 - acc: 0.4903 - val_loss: 1.0532 - val_acc: 0.5128\n",
      "Epoch 7/50\n",
      "206/206 [==============================] - 7s 32ms/step - loss: 1.0379 - acc: 0.5434 - val_loss: 1.0436 - val_acc: 0.5131\n",
      "Epoch 8/50\n",
      "206/206 [==============================] - 6s 28ms/step - loss: 1.0304 - acc: 0.5568 - val_loss: 1.0399 - val_acc: 0.5104\n",
      "Epoch 9/50\n",
      "206/206 [==============================] - 6s 30ms/step - loss: 1.0241 - acc: 0.5616 - val_loss: 1.0348 - val_acc: 0.5113\n",
      "Epoch 10/50\n",
      "206/206 [==============================] - 6s 30ms/step - loss: 1.0181 - acc: 0.5674 - val_loss: 1.0295 - val_acc: 0.5117\n",
      "Epoch 11/50\n",
      "206/206 [==============================] - 6s 31ms/step - loss: 1.0117 - acc: 0.5734 - val_loss: 1.0228 - val_acc: 0.5228\n",
      "Epoch 12/50\n",
      "206/206 [==============================] - 7s 32ms/step - loss: 1.0053 - acc: 0.5789 - val_loss: 1.0138 - val_acc: 0.5473\n",
      "Epoch 13/50\n",
      "206/206 [==============================] - 7s 32ms/step - loss: 0.9976 - acc: 0.5906 - val_loss: 1.0021 - val_acc: 0.5689\n",
      "Epoch 14/50\n",
      "206/206 [==============================] - 6s 29ms/step - loss: 0.9856 - acc: 0.6133 - val_loss: 0.9830 - val_acc: 0.5890\n",
      "Epoch 15/50\n",
      "206/206 [==============================] - 6s 31ms/step - loss: 0.9653 - acc: 0.6534 - val_loss: 0.9559 - val_acc: 0.6502\n",
      "Epoch 16/50\n",
      "206/206 [==============================] - 6s 31ms/step - loss: 0.9405 - acc: 0.6946 - val_loss: 0.9321 - val_acc: 0.6904\n",
      "Epoch 17/50\n",
      "206/206 [==============================] - 6s 29ms/step - loss: 0.9239 - acc: 0.7255 - val_loss: 0.9137 - val_acc: 0.7276\n",
      "Epoch 18/50\n",
      "206/206 [==============================] - 7s 34ms/step - loss: 0.9116 - acc: 0.7439 - val_loss: 0.8918 - val_acc: 0.7436\n",
      "Epoch 19/50\n",
      "206/206 [==============================] - 6s 30ms/step - loss: 0.8965 - acc: 0.7602 - val_loss: 0.8777 - val_acc: 0.7550\n",
      "Epoch 20/50\n",
      "206/206 [==============================] - 7s 32ms/step - loss: 0.8813 - acc: 0.7754 - val_loss: 0.8632 - val_acc: 0.7711\n",
      "Epoch 21/50\n",
      "206/206 [==============================] - 7s 32ms/step - loss: 0.8679 - acc: 0.7916 - val_loss: 0.8498 - val_acc: 0.7898\n",
      "Epoch 22/50\n",
      "206/206 [==============================] - 6s 30ms/step - loss: 0.8549 - acc: 0.8055 - val_loss: 0.8391 - val_acc: 0.8022\n",
      "Epoch 23/50\n",
      "206/206 [==============================] - 6s 28ms/step - loss: 0.8429 - acc: 0.8159 - val_loss: 0.8265 - val_acc: 0.8129\n",
      "Epoch 24/50\n",
      "206/206 [==============================] - 7s 33ms/step - loss: 0.8320 - acc: 0.8303 - val_loss: 0.8142 - val_acc: 0.8217\n",
      "Epoch 25/50\n",
      "206/206 [==============================] - 7s 32ms/step - loss: 0.8180 - acc: 0.8396 - val_loss: 0.7985 - val_acc: 0.8420\n",
      "Epoch 26/50\n",
      "206/206 [==============================] - 6s 31ms/step - loss: 0.8005 - acc: 0.8573 - val_loss: 0.7795 - val_acc: 0.8672\n",
      "Epoch 27/50\n",
      "206/206 [==============================] - 6s 29ms/step - loss: 0.7821 - acc: 0.8732 - val_loss: 0.7628 - val_acc: 0.8794\n",
      "Epoch 28/50\n",
      "206/206 [==============================] - 6s 31ms/step - loss: 0.7717 - acc: 0.8790 - val_loss: 0.7519 - val_acc: 0.8719\n",
      "Epoch 29/50\n",
      "206/206 [==============================] - 6s 30ms/step - loss: 0.7606 - acc: 0.8858 - val_loss: 0.7385 - val_acc: 0.8985\n",
      "Epoch 30/50\n",
      "206/206 [==============================] - 7s 34ms/step - loss: 0.7500 - acc: 0.8951 - val_loss: 0.7301 - val_acc: 0.8968\n",
      "Epoch 31/50\n",
      "206/206 [==============================] - 6s 28ms/step - loss: 0.7407 - acc: 0.8996 - val_loss: 0.7220 - val_acc: 0.9045\n",
      "Epoch 32/50\n",
      "206/206 [==============================] - 7s 33ms/step - loss: 0.7314 - acc: 0.9044 - val_loss: 0.7112 - val_acc: 0.9140\n",
      "Epoch 33/50\n",
      "206/206 [==============================] - 6s 30ms/step - loss: 0.7222 - acc: 0.9074 - val_loss: 0.7027 - val_acc: 0.9181\n",
      "Epoch 34/50\n",
      "206/206 [==============================] - 6s 29ms/step - loss: 0.7143 - acc: 0.9104 - val_loss: 0.6953 - val_acc: 0.9213\n",
      "Epoch 35/50\n",
      "206/206 [==============================] - 7s 32ms/step - loss: 0.7073 - acc: 0.9128 - val_loss: 0.6889 - val_acc: 0.9205\n",
      "Epoch 36/50\n",
      "206/206 [==============================] - 6s 31ms/step - loss: 0.7007 - acc: 0.9138 - val_loss: 0.6823 - val_acc: 0.9215\n",
      "Epoch 37/50\n",
      "206/206 [==============================] - 6s 29ms/step - loss: 0.6944 - acc: 0.9163 - val_loss: 0.6766 - val_acc: 0.9223\n",
      "Epoch 38/50\n",
      "206/206 [==============================] - 6s 30ms/step - loss: 0.6882 - acc: 0.9171 - val_loss: 0.6708 - val_acc: 0.9234\n",
      "Epoch 39/50\n",
      "206/206 [==============================] - 6s 30ms/step - loss: 0.6822 - acc: 0.9179 - val_loss: 0.6648 - val_acc: 0.9262\n",
      "Epoch 40/50\n",
      "206/206 [==============================] - 6s 31ms/step - loss: 0.6758 - acc: 0.9224 - val_loss: 0.6595 - val_acc: 0.9271\n",
      "Epoch 41/50\n",
      "206/206 [==============================] - 6s 31ms/step - loss: 0.6702 - acc: 0.9247 - val_loss: 0.6541 - val_acc: 0.9307\n",
      "Epoch 42/50\n",
      "206/206 [==============================] - 6s 31ms/step - loss: 0.6645 - acc: 0.9255 - val_loss: 0.6488 - val_acc: 0.9308\n",
      "Epoch 43/50\n",
      "206/206 [==============================] - 6s 30ms/step - loss: 0.6589 - acc: 0.9264 - val_loss: 0.6432 - val_acc: 0.9298\n",
      "Epoch 44/50\n",
      "206/206 [==============================] - 6s 30ms/step - loss: 0.6526 - acc: 0.9287 - val_loss: 0.6366 - val_acc: 0.9320\n",
      "Epoch 45/50\n",
      "206/206 [==============================] - 6s 29ms/step - loss: 0.6465 - acc: 0.9307 - val_loss: 0.6320 - val_acc: 0.9326\n",
      "Epoch 46/50\n",
      "206/206 [==============================] - 6s 30ms/step - loss: 0.6408 - acc: 0.9311 - val_loss: 0.6265 - val_acc: 0.9330\n",
      "Epoch 47/50\n",
      "206/206 [==============================] - 6s 31ms/step - loss: 0.6342 - acc: 0.9334 - val_loss: 0.6208 - val_acc: 0.9327\n",
      "Epoch 48/50\n",
      "206/206 [==============================] - 6s 30ms/step - loss: 0.6283 - acc: 0.9340 - val_loss: 0.6150 - val_acc: 0.9324\n",
      "Epoch 49/50\n",
      "206/206 [==============================] - 6s 31ms/step - loss: 0.6223 - acc: 0.9359 - val_loss: 0.6098 - val_acc: 0.9333\n",
      "Epoch 50/50\n",
      "206/206 [==============================] - 6s 29ms/step - loss: 0.6168 - acc: 0.9363 - val_loss: 0.6045 - val_acc: 0.9338\n"
     ]
    },
    {
     "data": {
      "text/plain": [
       "<matplotlib.legend.Legend at 0x12c9bbd68>"
      ]
     },
     "execution_count": 15,
     "metadata": {},
     "output_type": "execute_result"
    },
    {
     "data": {
      "image/png": "[encoded data removed]",
      "text/plain": [
       "<matplotlib.figure.Figure at 0x12c94fe48>"
      ]
     },
     "metadata": {},
     "output_type": "display_data"
    }
   ],
   "source": [
    "print('\\nTraining...')\n",
    "history = model.fit(x, y, batch_size=BATCH_SIZE, epochs=EPOCHS, shuffle=1,validation_data = (X_val,y_val))\n",
    "model.save('hw_5_model.hdf5')\n",
    "\n",
    "fig = plt.figure()\n",
    "plt.plot( history.history['acc'], label = 'train')\n",
    "plt.plot( history.history['val_acc'], label = 'val')\n",
    "plt.title('Traing Accuracy')\n",
    "axes = plt.gca()\n",
    "axes.set_ylim([0, 1])   \n",
    "plt.ylabel('accuracy')\n",
    "plt.xlabel('epochs')\n",
    "plt.legend()\n",
    "\n"
   ]
  },
  {
   "cell_type": "code",
   "execution_count": null,
   "metadata": {},
   "outputs": [],
   "source": []
  }
 ],
 "metadata": {
  "kernelspec": {
   "display_name": "Python 3",
   "language": "python",
   "name": "python3"
  },
  "language_info": {
   "codemirror_mode": {
    "name": "ipython",
    "version": 3
   },
   "file_extension": ".py",
   "mimetype": "text/x-python",
   "name": "python",
   "nbconvert_exporter": "python",
   "pygments_lexer": "ipython3",
   "version": "3.6.4"
  }
 },
 "nbformat": 4,
 "nbformat_minor": 2
}
